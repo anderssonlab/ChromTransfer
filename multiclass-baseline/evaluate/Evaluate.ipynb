{
 "cells": [
  {
   "cell_type": "code",
   "execution_count": null,
   "metadata": {},
   "outputs": [],
   "source": [
    "import os\n",
    "import json\n",
    "from pathlib import Path\n",
    "\n",
    "import numpy as np\n",
    "import tensorflow as tf\n",
    "\n",
    "print(os.getcwd())"
   ]
  },
  {
   "cell_type": "code",
   "execution_count": null,
   "metadata": {},
   "outputs": [],
   "source": [
    "base2int = {'A': 0, 'C': 1, 'G': 2, 'T': 3}\n",
    "\n",
    "def sequence2int(sequence, mapping=base2int):\n",
    "    return [mapping.get(base, 999) for base in sequence]\n",
    "\n",
    "def sequence2onehot(sequence, mapping=base2int):\n",
    "    return tf.one_hot(sequence2int(sequence, mapping), depth=4)\n",
    "\n",
    "def load_fasta(fasta):\n",
    "    with open(fasta) as f:\n",
    "        for line in f:\n",
    "            assert line[0] == '>'\n",
    "            header, sequence = line.strip(), f.readline().strip()\n",
    "            name, *_ = header[1:].split(':')\n",
    "            yield tf.cast(sequence2onehot(sequence), tf.float32), tf.cast(name, tf.string)\n",
    "\n",
    "def load_dataset(fasta, cache=False, shuffle=False):\n",
    "    #positive_label = tf.cast(positive_label, tf.string)\n",
    "    \n",
    "    dataset = tf.data.Dataset.from_generator(lambda: load_fasta(fasta), output_types=(tf.float32, tf.string))\n",
    "    #dataset = dataset.map(lambda x, y: (x, tf.cast(y == positive_label, tf.int8)))\n",
    "    if cache:\n",
    "        dataset = dataset.cache()\n",
    "    if shuffle:\n",
    "        dataset = dataset.shuffle(1_000_000)\n",
    "    #dataset = dataset.batch(128)\n",
    "    return dataset"
   ]
  },
  {
   "cell_type": "code",
   "execution_count": null,
   "metadata": {},
   "outputs": [],
   "source": [
    "# X = [x for x in load_fasta('../data.csv/processed/train/HEPG2.fasta')]\n",
    "# print(len(X))"
   ]
  },
  {
   "cell_type": "code",
   "execution_count": null,
   "metadata": {},
   "outputs": [],
   "source": [
    "# D = load_dataset('../data.csv/processed/train/HEPG2.fasta')\n",
    "# D.element_spec\n",
    "\n",
    "# for x in D.take(1):\n",
    "#     print(x)"
   ]
  },
  {
   "cell_type": "code",
   "execution_count": null,
   "metadata": {},
   "outputs": [],
   "source": []
  },
  {
   "cell_type": "code",
   "execution_count": null,
   "metadata": {},
   "outputs": [],
   "source": [
    "def load_finetune_models(dir):\n",
    "    models_dict = dict()\n",
    "    for fpath in Path(dir).glob('**/*.h5'):\n",
    "        cell = str(fpath).split('/')[-2]\n",
    "        models_dict[cell] = tf.keras.models.load_model(str(fpath))\n",
    "    return models_dict\n",
    "\n",
    "finetune_models = load_finetune_models('../models/rDHS.models.finetuned')\n",
    "finetune_models"
   ]
  },
  {
   "cell_type": "code",
   "execution_count": null,
   "metadata": {},
   "outputs": [],
   "source": [
    "finetune_models['HEPG2'](tf.random.uniform(shape=(1, 600, 4)))"
   ]
  },
  {
   "cell_type": "code",
   "execution_count": null,
   "metadata": {},
   "outputs": [],
   "source": [
    "multiclass_model = tf.keras.models.load_model('../train.csv/model.multitask.Jan-5-2023.h5', compile=False)"
   ]
  },
  {
   "cell_type": "code",
   "execution_count": null,
   "metadata": {},
   "outputs": [],
   "source": [
    "multiclass_model(tf.random.uniform(shape=(1, 600, 4)))"
   ]
  },
  {
   "cell_type": "code",
   "execution_count": null,
   "metadata": {},
   "outputs": [],
   "source": [
    "cell2idx = {\n",
    "    'A549': 0,\n",
    "    'GM12878': 1,\n",
    "    'HCT116': 2,\n",
    "    'HEPG2': 3,\n",
    "    'K562': 4,\n",
    "    'MCF7': 5,\n",
    "    'Negative': 6,\n",
    "}"
   ]
  },
  {
   "cell_type": "code",
   "execution_count": null,
   "metadata": {},
   "outputs": [],
   "source": [
    "multiclass_model"
   ]
  },
  {
   "cell_type": "code",
   "execution_count": null,
   "metadata": {},
   "outputs": [],
   "source": [
    "import tqdm\n",
    "\n",
    "def evaluate_model_on_fasta(model, dataset, output_filepath, positive_label, eval_type='binary', idx=0):\n",
    "    \n",
    "    with tqdm.tqdm(total=n) as pbar:\n",
    "        with open(output_filepath, 'w') as f_out:\n",
    "            for x, y in dataset:\n",
    "                pred = model(x)\n",
    "                for i in range(len(pred)):\n",
    "                    if idx is not None:\n",
    "                        pred_i = pred[i, idx]\n",
    "                        \n",
    "                    # if eval_type == 'multiclass':\n",
    "                    #     # whether idx is max score --> needed for F1 score calculation of multitask\n",
    "                    #     pred_i_max_idx = tf.argmax(pred[i, ]).numpy()\n",
    "                    #     pred_i_label = int(idx == pred_i_max_idx)\n",
    "                    #     print('argmax:', pred_i_max_idx, ' - ', 'idx:', idx, 'label:', pred_i_label, 'pred:', pred[i, ].numpy())\n",
    "                    # elif eval_type == 'binary':\n",
    "                    #     pred_i_label = int(pred_i > 0.5)\n",
    "                    \n",
    "                    y_i = y[i].numpy().decode('UTF-8')\n",
    "                    label_i = int(positive_label == y_i)\n",
    "                    print(f\"{pred_i},{cell},{y_i},{label_i},{pred_i_label}\", file=f_out, flush=True)\n",
    "                    pbar.update(1)"
   ]
  },
  {
   "cell_type": "code",
   "execution_count": null,
   "metadata": {},
   "outputs": [],
   "source": [
    "for cell in ['HEPG2']:# cell2idx.keys():\n",
    "    if cell == 'Negative':\n",
    "        continue\n",
    "    \n",
    "    print('-->', cell)\n",
    "    \n",
    "    fasta = f'../data.csv/processed/test/{cell}.fasta'\n",
    "    \n",
    "    print('Loading dataset ...')\n",
    "    dataset = load_dataset(fasta, cache=True)\n",
    "    \n",
    "    n = 0\n",
    "    for _ in dataset:\n",
    "        n += 1\n",
    "    print('total:', n)\n",
    "    \n",
    "    dataset = dataset.batch(256)\n",
    "    dataset = dataset.cache()\n",
    "    \n",
    "    # multi-task\n",
    "    evaluate_model_on_fasta(multiclass_model, dataset, f'multiclass/eval.{cell}.multiclass.csv', positive_label=cell, idx=cell2idx[cell], eval_type='multiclass')\n",
    "    \n",
    "    # finetuned\n",
    "    evaluate_model_on_fasta(finetune_models[cell], dataset, f'finetuned/eval.{cell}.finetuned.csv', positive_label=cell, eval_type='binary')\n",
    "    "
   ]
  },
  {
   "cell_type": "code",
   "execution_count": null,
   "metadata": {},
   "outputs": [],
   "source": []
  },
  {
   "cell_type": "code",
   "execution_count": null,
   "metadata": {},
   "outputs": [],
   "source": []
  }
 ],
 "metadata": {
  "interpreter": {
   "hash": "150bef772f693d9716bc82fba65767b2dbc77b933509c2459cc29d1b0e410b48"
  },
  "kernelspec": {
   "display_name": "Python [conda env:rbpnet-2.0]",
   "language": "python",
   "name": "conda-env-rbpnet-2.0-py"
  },
  "language_info": {
   "codemirror_mode": {
    "name": "ipython",
    "version": 3
   },
   "file_extension": ".py",
   "mimetype": "text/x-python",
   "name": "python",
   "nbconvert_exporter": "python",
   "pygments_lexer": "ipython3",
   "version": "3.8.12"
  }
 },
 "nbformat": 4,
 "nbformat_minor": 4
}
